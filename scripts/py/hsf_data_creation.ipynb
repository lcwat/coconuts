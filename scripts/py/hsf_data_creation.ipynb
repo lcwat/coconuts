{
 "cells": [
  {
   "cell_type": "markdown",
   "id": "926aca3e",
   "metadata": {},
   "source": [
    "#### Creating data for sequential choice models\n",
    "The series of models I plan to use in my thesis project, inspired by habitat-selection functions from movement ecology, use environmental covariates of available resources (e.g., distance from current location, turning angle from previous bearing angle, size/point value, etc.) to predict whether a resource will be chosen next. By specifying a series of models containing different parameters, I will fit different cognitive heuristic strategies to human sequential choice data and determine parameters of significance to the foraging strategies of participants. "
   ]
  },
  {
   "cell_type": "markdown",
   "id": "8590c94b",
   "metadata": {},
   "source": [
    "To start, I must take existing foraging data in the form of logs of collected objects during play and expand it out to include the covariates of interest of all available objects. This data needs to also reflect the removal and reintroduction of collected objects during the course of play. "
   ]
  },
  {
   "cell_type": "code",
   "execution_count": 9,
   "id": "ed0d32d0",
   "metadata": {},
   "outputs": [],
   "source": [
    "# import libraries\n",
    "import pandas as pd\n",
    "import numpy as np\n",
    "import re"
   ]
  },
  {
   "cell_type": "code",
   "execution_count": 2,
   "id": "1df92ec8",
   "metadata": {},
   "outputs": [],
   "source": [
    "# read in data\n",
    "forage_data = pd.read_csv(\n",
    "    \"../../data/piloting/march24_pilot_forage_data_w_ids.csv\"\n",
    ")\n",
    "all_lvls_obj_location_data = pd.read_csv(\n",
    "    \"../../data/arrangements/object-location-data.csv\"\n",
    ")"
   ]
  },
  {
   "cell_type": "markdown",
   "id": "372e160c",
   "metadata": {},
   "source": [
    "##### Adding covariates and all available objects\n",
    "The two covariates of interest needed to be added to this expanded data set are distance from current location and turning angle "
   ]
  },
  {
   "cell_type": "code",
   "execution_count": 3,
   "id": "bfde6829",
   "metadata": {},
   "outputs": [],
   "source": [
    "# distance matrices store distances between coconuts\n",
    "def create_distance_matrices(obj_locs=pd.DataFrame):\n",
    "\n",
    "    # create list for levels\n",
    "    dist_matrix_list = []\n",
    "\n",
    "    # for each level, create matrix of all distances\n",
    "    for level in range(0, 10):\n",
    "        # filter for this level\n",
    "        level_locs = obj_locs[obj_locs.level == \"_level_\"+str(level+1)]\n",
    "\n",
    "        # reset index for consistent indexing\n",
    "        level_locs.index = [*range(0, len(level_locs))]\n",
    "\n",
    "        # create empty matrix\n",
    "        level_m = np.zeros((len(level_locs), len(level_locs)), dtype=float)\n",
    "\n",
    "        # fill this level's matrix\n",
    "        for i in range(0, len(level_locs)):\n",
    "            for j in range(0, len(level_locs)):\n",
    "                # calc distance and store in matrix\n",
    "                level_m[i, j] = np.sqrt(\n",
    "                    np.pow(level_locs.x[i]-level_locs.x[j], 2) +\n",
    "                    np.pow(level_locs.y[i]-level_locs.y[j], 2)\n",
    "                )\n",
    "\n",
    "        # add to list\n",
    "        dist_matrix_list.append(level_m)\n",
    "\n",
    "    return dist_matrix_list"
   ]
  },
  {
   "cell_type": "code",
   "execution_count": 36,
   "id": "c5e96109",
   "metadata": {},
   "outputs": [],
   "source": [
    "# calculate turning angles\n",
    "def calculate_turning_angles(\n",
    "    previous_head_angle=float, current_obj_id=int, obj_locs=pd.DataFrame\n",
    "):\n",
    "\n",
    "    # empty list for angles\n",
    "    ta_list = []\n",
    "\n",
    "    # loop through df and calculate each ta\n",
    "    for obj in obj_locs.obj_ID:\n",
    "        if obj == current_obj_id:\n",
    "            ta_list.append(pd.NA)\n",
    "        else:\n",
    "            ta = np.atan2(\n",
    "                obj_locs[obj_locs.obj_ID == obj].y[obj-1] -\n",
    "                obj_locs[obj_locs.obj_ID ==\n",
    "                         current_obj_id].y[current_obj_id-1],\n",
    "                obj_locs[obj_locs.obj_ID == obj].x[obj-1] -\n",
    "                obj_locs[obj_locs.obj_ID == current_obj_id].x[current_obj_id-1]\n",
    "            ) - previous_head_angle\n",
    "\n",
    "            ta_list.append(ta)\n",
    "\n",
    "    return ta_list"
   ]
  },
  {
   "cell_type": "code",
   "execution_count": 5,
   "id": "73d469e7",
   "metadata": {},
   "outputs": [],
   "source": [
    "lvls = create_distance_matrices(all_lvls_obj_location_data)"
   ]
  },
  {
   "cell_type": "code",
   "execution_count": 29,
   "id": "de9441d4",
   "metadata": {},
   "outputs": [],
   "source": [
    "# neighbors distance\n",
    "def neighborhood_value(\n",
    "    obj_ind=int, lvl_ind=int, lvl_matrices=list, num_neighbors=int, already_collected=list\n",
    "):\n",
    "\n",
    "    # filter for level distances\n",
    "    lvl_dists = lvl_matrices[lvl_ind]\n",
    "\n",
    "    # filter for already collected items\n",
    "    if len(already_collected) > 0:\n",
    "        available_indices = [\n",
    "            x for x in [*range(0, len(lvl_dists[obj_ind]))] if x not in already_collected\n",
    "        ]\n",
    "        active_obj_dists = lvl_dists[obj_ind][available_indices]\n",
    "    else:\n",
    "        active_obj_dists = lvl_dists[obj_ind]\n",
    "\n",
    "    return np.sum(np.reciprocal(sorted(active_obj_dists)[1:num_neighbors]))"
   ]
  },
  {
   "cell_type": "code",
   "execution_count": null,
   "id": "f29dcc8d",
   "metadata": {},
   "outputs": [],
   "source": [
    "# combine together to create function to expand df\n",
    "def expand_df_with_covariates(\n",
    "    orig_df=pd.DataFrame,\n",
    "    all_obj_locs_df=pd.DataFrame\n",
    "):\n",
    "\n",
    "    # create empty df to append\n",
    "    expanded_df = pd.DataFrame({\n",
    "        'subject': int,\n",
    "        'level': str,\n",
    "        'collection_num': int,\n",
    "        'obj_ID': int,\n",
    "        'point_value': int,\n",
    "        'distance': float,\n",
    "        'turning_angle': float,\n",
    "        'neighbor_value': float,\n",
    "        'used': int,\n",
    "        'time': float\n",
    "    })\n",
    "\n",
    "    # create df to track collections\n",
    "    collect_df = pd.DataFrame({\n",
    "        'obj_ID': int,\n",
    "        'time_to_respawn': float\n",
    "    })\n",
    "\n",
    "    # create all distance matrices\n",
    "    lvl_dist_matrices = create_distance_matrices(all_obj_locs_df)\n",
    "\n",
    "    # turn string levels into ints\n",
    "    lvl_ints = [\n",
    "        int(re.search(r'\\d+', lvl_s).group()) for lvl_s in orig_df.level\n",
    "    ]\n",
    "\n",
    "    # loop through df and expand\n",
    "    for i in range(0, len(orig_df)):\n",
    "\n",
    "        # slice row\n",
    "        row_of_interest = orig_df.iloc[i]\n",
    "\n",
    "        # use level from lvl_ints list to determine locations to consider\n",
    "        curr_matrix = lvl_dist_matrices[lvl_ints[i]-1]\n",
    "\n",
    "        # and from the locations df\n",
    "        curr_level_locs = all_lvls_obj_location_data[\n",
    "            all_lvls_obj_location_data.level == row_of_interest.level\n",
    "        ]\n",
    "\n",
    "        # find covariate values of each object available to forager\n",
    "        # grab obj_ID\n",
    "        curr_obj_ID = row_of_interest.obj_ID\n",
    "\n",
    "        # distances from current object\n",
    "        dist_from_curr = curr_matrix[curr_obj_ID-1]\n",
    "\n",
    "        # neighborhood influenced distance values\n",
    "        hood_val_from_curr = neighborhood_value(\n",
    "            curr_obj_ID-1, lvl_ints[i]-1, curr_matrix, 3, collect_df\n",
    "        )\n",
    "\n",
    "        # need to determine if this is the start of a new level\n",
    "        if forage_data.level[i] != forage_data.level[i-1]:\n",
    "            # starting from 0,0, so heading is determined by angle\n",
    "            # formed from there\n",
    "            heading_angle = np.atan2(row_of_interest.y, row_of_interest.x)\n",
    "        else:\n",
    "            # grab previously calculated turning angle from df\n",
    "            heading_angle = expanded_df.turning_angle\n",
    "\n",
    "        # turning angles from current object\n",
    "        tas_from_curr = calculate_turning_angles(\n",
    "            heading_angle, curr_obj_ID, curr_level_locs\n",
    "        )"
   ]
  },
  {
   "cell_type": "code",
   "execution_count": 37,
   "id": "e56d0ce1",
   "metadata": {},
   "outputs": [
    {
     "data": {
      "application/vnd.microsoft.datawrangler.viewer.v0+json": {
       "columns": [
        {
         "name": "index",
         "rawType": "int64",
         "type": "integer"
        },
        {
         "name": "level",
         "rawType": "object",
         "type": "string"
        },
        {
         "name": "obj_ID",
         "rawType": "int64",
         "type": "integer"
        },
        {
         "name": "point_value",
         "rawType": "int64",
         "type": "integer"
        },
        {
         "name": "x",
         "rawType": "float64",
         "type": "float"
        },
        {
         "name": "y",
         "rawType": "float64",
         "type": "float"
        }
       ],
       "ref": "b6abe1cb-86f5-479d-8cbd-ecfc3ee4c66a",
       "rows": [
        [
         "0",
         "_level_1",
         "1",
         "2",
         "15.0",
         "23.5"
        ],
        [
         "1",
         "_level_1",
         "2",
         "2",
         "15.0",
         "20.0"
        ],
        [
         "2",
         "_level_1",
         "3",
         "2",
         "10.0",
         "20.0"
        ],
        [
         "3",
         "_level_1",
         "4",
         "2",
         "20.0",
         "20.0"
        ],
        [
         "4",
         "_level_1",
         "5",
         "2",
         "12.5",
         "17.5"
        ],
        [
         "5",
         "_level_1",
         "6",
         "2",
         "17.5",
         "17.5"
        ],
        [
         "6",
         "_level_1",
         "7",
         "2",
         "6.5",
         "15.0"
        ],
        [
         "7",
         "_level_1",
         "8",
         "2",
         "10.0",
         "15.0"
        ],
        [
         "8",
         "_level_1",
         "9",
         "2",
         "15.0",
         "15.0"
        ],
        [
         "9",
         "_level_1",
         "10",
         "2",
         "20.0",
         "15.0"
        ],
        [
         "10",
         "_level_1",
         "11",
         "2",
         "23.5",
         "15.0"
        ],
        [
         "11",
         "_level_1",
         "12",
         "2",
         "12.5",
         "12.5"
        ],
        [
         "12",
         "_level_1",
         "13",
         "2",
         "17.5",
         "12.5"
        ],
        [
         "13",
         "_level_1",
         "14",
         "2",
         "10.0",
         "10.0"
        ],
        [
         "14",
         "_level_1",
         "15",
         "2",
         "15.0",
         "10.0"
        ],
        [
         "15",
         "_level_1",
         "16",
         "2",
         "20.0",
         "10.0"
        ],
        [
         "16",
         "_level_1",
         "17",
         "2",
         "15.0",
         "6.5"
        ],
        [
         "17",
         "_level_1",
         "18",
         "2",
         "15.0",
         "-23.5"
        ],
        [
         "18",
         "_level_1",
         "19",
         "2",
         "15.0",
         "-20.0"
        ],
        [
         "19",
         "_level_1",
         "20",
         "2",
         "10.0",
         "-20.0"
        ],
        [
         "20",
         "_level_1",
         "21",
         "2",
         "20.0",
         "-20.0"
        ],
        [
         "21",
         "_level_1",
         "22",
         "2",
         "12.5",
         "-17.5"
        ],
        [
         "22",
         "_level_1",
         "23",
         "2",
         "17.5",
         "-17.5"
        ],
        [
         "23",
         "_level_1",
         "24",
         "2",
         "6.5",
         "-15.0"
        ],
        [
         "24",
         "_level_1",
         "25",
         "2",
         "10.0",
         "-15.0"
        ],
        [
         "25",
         "_level_1",
         "26",
         "2",
         "15.0",
         "-15.0"
        ],
        [
         "26",
         "_level_1",
         "27",
         "2",
         "20.0",
         "-15.0"
        ],
        [
         "27",
         "_level_1",
         "28",
         "2",
         "23.5",
         "-15.0"
        ],
        [
         "28",
         "_level_1",
         "29",
         "2",
         "12.5",
         "-12.5"
        ],
        [
         "29",
         "_level_1",
         "30",
         "2",
         "17.5",
         "-12.5"
        ],
        [
         "30",
         "_level_1",
         "31",
         "2",
         "10.0",
         "-10.0"
        ],
        [
         "31",
         "_level_1",
         "32",
         "2",
         "15.0",
         "-10.0"
        ],
        [
         "32",
         "_level_1",
         "33",
         "2",
         "20.0",
         "-10.0"
        ],
        [
         "33",
         "_level_1",
         "34",
         "2",
         "15.0",
         "-6.5"
        ],
        [
         "34",
         "_level_1",
         "35",
         "2",
         "-15.0",
         "23.5"
        ],
        [
         "35",
         "_level_1",
         "36",
         "2",
         "-15.0",
         "20.0"
        ],
        [
         "36",
         "_level_1",
         "37",
         "2",
         "-10.0",
         "20.0"
        ],
        [
         "37",
         "_level_1",
         "38",
         "2",
         "-20.0",
         "20.0"
        ],
        [
         "38",
         "_level_1",
         "39",
         "2",
         "-12.5",
         "17.5"
        ],
        [
         "39",
         "_level_1",
         "40",
         "2",
         "-17.5",
         "17.5"
        ],
        [
         "40",
         "_level_1",
         "41",
         "2",
         "-6.5",
         "15.0"
        ],
        [
         "41",
         "_level_1",
         "42",
         "2",
         "-10.0",
         "15.0"
        ],
        [
         "42",
         "_level_1",
         "43",
         "2",
         "-15.0",
         "15.0"
        ],
        [
         "43",
         "_level_1",
         "44",
         "2",
         "-20.0",
         "15.0"
        ],
        [
         "44",
         "_level_1",
         "45",
         "2",
         "-23.5",
         "15.0"
        ],
        [
         "45",
         "_level_1",
         "46",
         "2",
         "-12.5",
         "12.5"
        ],
        [
         "46",
         "_level_1",
         "47",
         "2",
         "-17.5",
         "12.5"
        ],
        [
         "47",
         "_level_1",
         "48",
         "2",
         "-10.0",
         "10.0"
        ],
        [
         "48",
         "_level_1",
         "49",
         "2",
         "-15.0",
         "10.0"
        ],
        [
         "49",
         "_level_1",
         "50",
         "2",
         "-20.0",
         "10.0"
        ]
       ],
       "shape": {
        "columns": 5,
        "rows": 670
       }
      },
      "text/html": [
       "<div>\n",
       "<style scoped>\n",
       "    .dataframe tbody tr th:only-of-type {\n",
       "        vertical-align: middle;\n",
       "    }\n",
       "\n",
       "    .dataframe tbody tr th {\n",
       "        vertical-align: top;\n",
       "    }\n",
       "\n",
       "    .dataframe thead th {\n",
       "        text-align: right;\n",
       "    }\n",
       "</style>\n",
       "<table border=\"1\" class=\"dataframe\">\n",
       "  <thead>\n",
       "    <tr style=\"text-align: right;\">\n",
       "      <th></th>\n",
       "      <th>level</th>\n",
       "      <th>obj_ID</th>\n",
       "      <th>point_value</th>\n",
       "      <th>x</th>\n",
       "      <th>y</th>\n",
       "    </tr>\n",
       "  </thead>\n",
       "  <tbody>\n",
       "    <tr>\n",
       "      <th>0</th>\n",
       "      <td>_level_1</td>\n",
       "      <td>1</td>\n",
       "      <td>2</td>\n",
       "      <td>15.0</td>\n",
       "      <td>23.5</td>\n",
       "    </tr>\n",
       "    <tr>\n",
       "      <th>1</th>\n",
       "      <td>_level_1</td>\n",
       "      <td>2</td>\n",
       "      <td>2</td>\n",
       "      <td>15.0</td>\n",
       "      <td>20.0</td>\n",
       "    </tr>\n",
       "    <tr>\n",
       "      <th>2</th>\n",
       "      <td>_level_1</td>\n",
       "      <td>3</td>\n",
       "      <td>2</td>\n",
       "      <td>10.0</td>\n",
       "      <td>20.0</td>\n",
       "    </tr>\n",
       "    <tr>\n",
       "      <th>3</th>\n",
       "      <td>_level_1</td>\n",
       "      <td>4</td>\n",
       "      <td>2</td>\n",
       "      <td>20.0</td>\n",
       "      <td>20.0</td>\n",
       "    </tr>\n",
       "    <tr>\n",
       "      <th>4</th>\n",
       "      <td>_level_1</td>\n",
       "      <td>5</td>\n",
       "      <td>2</td>\n",
       "      <td>12.5</td>\n",
       "      <td>17.5</td>\n",
       "    </tr>\n",
       "    <tr>\n",
       "      <th>...</th>\n",
       "      <td>...</td>\n",
       "      <td>...</td>\n",
       "      <td>...</td>\n",
       "      <td>...</td>\n",
       "      <td>...</td>\n",
       "    </tr>\n",
       "    <tr>\n",
       "      <th>665</th>\n",
       "      <td>_level_10</td>\n",
       "      <td>62</td>\n",
       "      <td>2</td>\n",
       "      <td>-25.0</td>\n",
       "      <td>-25.0</td>\n",
       "    </tr>\n",
       "    <tr>\n",
       "      <th>666</th>\n",
       "      <td>_level_10</td>\n",
       "      <td>63</td>\n",
       "      <td>2</td>\n",
       "      <td>-15.0</td>\n",
       "      <td>-25.0</td>\n",
       "    </tr>\n",
       "    <tr>\n",
       "      <th>667</th>\n",
       "      <td>_level_10</td>\n",
       "      <td>64</td>\n",
       "      <td>2</td>\n",
       "      <td>-30.0</td>\n",
       "      <td>-30.0</td>\n",
       "    </tr>\n",
       "    <tr>\n",
       "      <th>668</th>\n",
       "      <td>_level_10</td>\n",
       "      <td>65</td>\n",
       "      <td>2</td>\n",
       "      <td>-20.0</td>\n",
       "      <td>-30.0</td>\n",
       "    </tr>\n",
       "    <tr>\n",
       "      <th>669</th>\n",
       "      <td>_level_10</td>\n",
       "      <td>66</td>\n",
       "      <td>2</td>\n",
       "      <td>-10.0</td>\n",
       "      <td>-30.0</td>\n",
       "    </tr>\n",
       "  </tbody>\n",
       "</table>\n",
       "<p>670 rows × 5 columns</p>\n",
       "</div>"
      ],
      "text/plain": [
       "         level  obj_ID  point_value     x     y\n",
       "0     _level_1       1            2  15.0  23.5\n",
       "1     _level_1       2            2  15.0  20.0\n",
       "2     _level_1       3            2  10.0  20.0\n",
       "3     _level_1       4            2  20.0  20.0\n",
       "4     _level_1       5            2  12.5  17.5\n",
       "..         ...     ...          ...   ...   ...\n",
       "665  _level_10      62            2 -25.0 -25.0\n",
       "666  _level_10      63            2 -15.0 -25.0\n",
       "667  _level_10      64            2 -30.0 -30.0\n",
       "668  _level_10      65            2 -20.0 -30.0\n",
       "669  _level_10      66            2 -10.0 -30.0\n",
       "\n",
       "[670 rows x 5 columns]"
      ]
     },
     "execution_count": 37,
     "metadata": {},
     "output_type": "execute_result"
    }
   ],
   "source": [
    "all_lvls_obj_location_data"
   ]
  },
  {
   "cell_type": "code",
   "execution_count": 30,
   "id": "d6112911",
   "metadata": {},
   "outputs": [
    {
     "data": {
      "application/vnd.microsoft.datawrangler.viewer.v0+json": {
       "columns": [
        {
         "name": "index",
         "rawType": "object",
         "type": "string"
        },
        {
         "name": "0",
         "rawType": "object",
         "type": "unknown"
        }
       ],
       "ref": "7754dfc1-8428-433f-9642-c1fb6f12c4dc",
       "rows": [
        [
         "subject",
         "1"
        ],
        [
         "level",
         "_level_1"
        ],
        [
         "object_size",
         "extra small"
        ],
        [
         "x",
         "15.0"
        ],
        [
         "y",
         "-10.0"
        ],
        [
         "points",
         "0"
        ],
        [
         "time",
         "91.40370178222656"
        ],
        [
         "obj_ID",
         "32"
        ],
        [
         "point_value",
         "2"
        ]
       ],
       "shape": {
        "columns": 1,
        "rows": 9
       }
      },
      "text/plain": [
       "subject                  1\n",
       "level             _level_1\n",
       "object_size    extra small\n",
       "x                     15.0\n",
       "y                    -10.0\n",
       "points                   0\n",
       "time             91.403702\n",
       "obj_ID                  32\n",
       "point_value              2\n",
       "Name: 0, dtype: object"
      ]
     },
     "execution_count": 30,
     "metadata": {},
     "output_type": "execute_result"
    }
   ],
   "source": [
    "forage_data.iloc[0]"
   ]
  },
  {
   "cell_type": "code",
   "execution_count": null,
   "id": "bab338e6",
   "metadata": {},
   "outputs": [],
   "source": [
    "lvl_ints = []\n",
    "for i in range(0, len(forage_data)):\n",
    "    lvl_s = forage_data.iloc[i].level\n",
    "    lvl = int(re.search(r'\\d+', lvl_s).group())\n",
    "    lvl_ints.append(lvl)"
   ]
  }
 ],
 "metadata": {
  "kernelspec": {
   "display_name": ".venv",
   "language": "python",
   "name": "python3"
  },
  "language_info": {
   "codemirror_mode": {
    "name": "ipython",
    "version": 3
   },
   "file_extension": ".py",
   "mimetype": "text/x-python",
   "name": "python",
   "nbconvert_exporter": "python",
   "pygments_lexer": "ipython3",
   "version": "3.13.2"
  }
 },
 "nbformat": 4,
 "nbformat_minor": 5
}
