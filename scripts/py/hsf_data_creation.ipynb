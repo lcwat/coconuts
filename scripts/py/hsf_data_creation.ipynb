{
 "cells": [
  {
   "cell_type": "markdown",
   "id": "926aca3e",
   "metadata": {},
   "source": [
    "#### Creating data for sequential choice models\n",
    "The series of models I plan to use in my thesis project, inspired by habitat-selection functions from movement ecology, use environmental covariates of available resources (e.g., distance from current location, turning angle from previous bearing angle, size/point value, etc.) to predict whether a resource will be chosen next. By specifying a series of models containing different parameters, I will fit different cognitive heuristic strategies to human sequential choice data and determine parameters of significance to the foraging strategies of participants. "
   ]
  },
  {
   "cell_type": "markdown",
   "id": "8590c94b",
   "metadata": {},
   "source": [
    "To start, I must take existing foraging data in the form of logs of collected objects during play and expand it out to include the covariates of interest of all available objects. This data needs to also reflect the removal and reintroduction of collected objects during the course of play. "
   ]
  },
  {
   "cell_type": "code",
   "execution_count": 1,
   "id": "ed0d32d0",
   "metadata": {},
   "outputs": [],
   "source": [
    "# import libraries\n",
    "import pandas as pd\n",
    "import numpy as np"
   ]
  },
  {
   "cell_type": "code",
   "execution_count": 4,
   "id": "1df92ec8",
   "metadata": {},
   "outputs": [],
   "source": [
    "# read in data\n",
    "forage_data = pd.read_csv(\n",
    "    \"../../data/piloting/march24_pilot_forage_data_w_ids.csv\"\n",
    ")\n",
    "all_lvls_obj_location_data = pd.read_csv(\n",
    "    \"../../data/arrangements/object-location-data.csv\"\n",
    ")"
   ]
  },
  {
   "cell_type": "markdown",
   "id": "372e160c",
   "metadata": {},
   "source": [
    "##### Adding covariates and all available objects\n",
    "The two covariates of interest needed to be added to this expanded data set are distance from current location and turning angle "
   ]
  },
  {
   "cell_type": "code",
   "execution_count": null,
   "id": "bfde6829",
   "metadata": {},
   "outputs": [],
   "source": []
  }
 ],
 "metadata": {
  "kernelspec": {
   "display_name": ".venv",
   "language": "python",
   "name": "python3"
  },
  "language_info": {
   "codemirror_mode": {
    "name": "ipython",
    "version": 3
   },
   "file_extension": ".py",
   "mimetype": "text/x-python",
   "name": "python",
   "nbconvert_exporter": "python",
   "pygments_lexer": "ipython3",
   "version": "3.13.2"
  }
 },
 "nbformat": 4,
 "nbformat_minor": 5
}
