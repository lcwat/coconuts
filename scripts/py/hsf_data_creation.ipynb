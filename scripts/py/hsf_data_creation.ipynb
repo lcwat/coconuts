{
 "cells": [
  {
   "cell_type": "markdown",
   "id": "926aca3e",
   "metadata": {},
   "source": [
    "#### Creating data for sequential choice models\n",
    "The series of models I plan to use in my thesis project, inspired by habitat-selection functions from movement ecology, use environmental covariates of available resources (e.g., distance from current location, turning angle from previous bearing angle, size/point value, etc.) to predict whether a resource will be chosen next. By specifying a series of models containing different parameters, I will fit different cognitive heuristic strategies to human sequential choice data and determine parameters of significance to the foraging strategies of participants. "
   ]
  },
  {
   "cell_type": "markdown",
   "id": "8590c94b",
   "metadata": {},
   "source": [
    "To start, I must take existing foraging data in the form of logs of collected objects during play and expand it out to include the covariates of interest of all available objects. This data needs to also reflect the removal and reintroduction of collected objects during the course of play. "
   ]
  },
  {
   "cell_type": "code",
   "execution_count": 1,
   "id": "ed0d32d0",
   "metadata": {},
   "outputs": [],
   "source": [
    "# import libraries\n",
    "import pandas as pd\n",
    "import numpy as np"
   ]
  },
  {
   "cell_type": "code",
   "execution_count": 2,
   "id": "1df92ec8",
   "metadata": {},
   "outputs": [],
   "source": [
    "# read in data\n",
    "forage_data = pd.read_csv(\n",
    "    \"../../data/piloting/march24_pilot_forage_data_w_ids.csv\"\n",
    ")\n",
    "all_lvls_obj_location_data = pd.read_csv(\n",
    "    \"../../data/arrangements/object-location-data.csv\"\n",
    ")"
   ]
  },
  {
   "cell_type": "markdown",
   "id": "372e160c",
   "metadata": {},
   "source": [
    "##### Adding covariates and all available objects\n",
    "The two covariates of interest needed to be added to this expanded data set are distance from current location and turning angle "
   ]
  },
  {
   "cell_type": "code",
   "execution_count": 52,
   "id": "bfde6829",
   "metadata": {},
   "outputs": [],
   "source": [
    "# distance matrices store distances between coconuts\n",
    "def create_distance_matrices(obj_locs=pd.DataFrame):\n",
    "\n",
    "    # create list for levels\n",
    "    dist_matrix_list = []\n",
    "\n",
    "    # for each level, create matrix of all distances\n",
    "    for level in range(0, 10):\n",
    "        # filter for this level\n",
    "        level_locs = obj_locs[obj_locs.level == \"_level_\"+str(level+1)]\n",
    "\n",
    "        # reset index for consistent indexing\n",
    "        level_locs.index = [*range(0, len(level_locs))]\n",
    "\n",
    "        # create empty matrix\n",
    "        level_m = np.zeros((len(level_locs), len(level_locs)), dtype=float)\n",
    "\n",
    "        # fill this level's matrix\n",
    "        for i in range(0, len(level_locs)):\n",
    "            for j in range(0, len(level_locs)):\n",
    "                # calc distance and store in matrix\n",
    "                level_m[i, j] = np.sqrt(\n",
    "                    np.pow(level_locs.x[i]-level_locs.x[j], 2) +\n",
    "                    np.pow(level_locs.y[i]-level_locs.y[j], 2)\n",
    "                )\n",
    "\n",
    "        # add to list\n",
    "        dist_matrix_list.append(level_m)\n",
    "\n",
    "    return dist_matrix_list"
   ]
  },
  {
   "cell_type": "code",
   "execution_count": null,
   "id": "c5e96109",
   "metadata": {},
   "outputs": [],
   "source": [
    "# calculate turning angles\n",
    "def calculate_turning_angle(\n",
    "    previous_head_angle=float, current_obj_id=int, obj_locs=pd.DataFrame\n",
    "):\n",
    "\n",
    "    # empty list for angles\n",
    "    ta_list = []\n",
    "\n",
    "    # loop through df and calculate each ta\n",
    "    for obj in obj_locs.obj_ID:\n",
    "        if obj == current_obj_id:\n",
    "            ta_list.append(pd.NA)\n",
    "        else:\n",
    "            ta = np.atan2(\n",
    "                obj_locs[obj_locs.obj_ID == obj].y[obj-1] -\n",
    "                obj_locs[obj_locs.obj_ID ==\n",
    "                         current_obj_id].y[current_obj_id-1],\n",
    "                obj_locs[obj_locs.obj_ID == obj].x[obj-1] -\n",
    "                obj_locs[obj_locs.obj_ID == current_obj_id].x[current_obj_id-1]\n",
    "            ) - previous_head_angle\n",
    "\n",
    "            ta_list.append(ta)\n",
    "\n",
    "    return ta_list"
   ]
  },
  {
   "cell_type": "code",
   "execution_count": 127,
   "id": "73d469e7",
   "metadata": {},
   "outputs": [],
   "source": [
    "lvls = create_distance_matrices(all_lvls_obj_location_data)"
   ]
  },
  {
   "cell_type": "code",
   "execution_count": 150,
   "id": "a180fd43",
   "metadata": {},
   "outputs": [
    {
     "name": "stdout",
     "output_type": "stream",
     "text": [
      "[0.28571429 0.16384638 0.16384638 0.15384615]\n",
      "[np.float64(3.5), np.float64(6.103277807866851), np.float64(6.103277807866851), np.float64(6.5)]\n"
     ]
    }
   ],
   "source": [
    "print(np.reciprocal(sorted(lvls[0][0])[1:5]))\n",
    "print(sorted(lvls[0][0])[1:5])"
   ]
  },
  {
   "cell_type": "code",
   "execution_count": 158,
   "id": "0db8747a",
   "metadata": {},
   "outputs": [
    {
     "data": {
      "text/plain": [
       "[0,\n",
       " 4,\n",
       " 5,\n",
       " 6,\n",
       " 7,\n",
       " 8,\n",
       " 9,\n",
       " 10,\n",
       " 11,\n",
       " 12,\n",
       " 13,\n",
       " 14,\n",
       " 15,\n",
       " 16,\n",
       " 17,\n",
       " 18,\n",
       " 19,\n",
       " 20,\n",
       " 21,\n",
       " 22,\n",
       " 23,\n",
       " 24,\n",
       " 25,\n",
       " 26,\n",
       " 27,\n",
       " 28,\n",
       " 29,\n",
       " 30,\n",
       " 31,\n",
       " 32,\n",
       " 33,\n",
       " 34,\n",
       " 35,\n",
       " 36,\n",
       " 37,\n",
       " 38,\n",
       " 39,\n",
       " 40,\n",
       " 41,\n",
       " 42,\n",
       " 43,\n",
       " 44,\n",
       " 45,\n",
       " 46,\n",
       " 47,\n",
       " 48,\n",
       " 49,\n",
       " 50,\n",
       " 51,\n",
       " 52,\n",
       " 53,\n",
       " 54,\n",
       " 55,\n",
       " 56,\n",
       " 57,\n",
       " 58,\n",
       " 59,\n",
       " 60,\n",
       " 61,\n",
       " 62,\n",
       " 63,\n",
       " 64,\n",
       " 65,\n",
       " 66,\n",
       " 67]"
      ]
     },
     "execution_count": 158,
     "metadata": {},
     "output_type": "execute_result"
    }
   ],
   "source": [
    "already_collect = [1, 2, 3]\n",
    "okay = [x for x in [*range(0, 68)] if x not in already_collect]\n",
    "okay"
   ]
  },
  {
   "cell_type": "code",
   "execution_count": null,
   "id": "de9441d4",
   "metadata": {},
   "outputs": [],
   "source": [
    "# neighbors distance\n",
    "def neighborhood_value(\n",
    "    obj_ind=int, lvl_ind=int, lvl_matrices=list, num_neighbors=int, already_collected=list\n",
    "):\n",
    "\n",
    "    # filter for level distances\n",
    "    lvl_dists = lvl_matrices[lvl_ind]\n",
    "\n",
    "    # filter for already collected items\n",
    "    if len(already_collected) > 0:\n",
    "        available_indices = [\n",
    "            x for x in [*range(0, len(lvl_dists[obj_ind]))] if x not in already_collect\n",
    "        ]\n",
    "        active_obj_dists = lvl_dists[obj_ind][available_indices]\n",
    "    else:\n",
    "        active_obj_dists = lvl_dists[obj_ind]\n",
    "\n",
    "    return np.sum(np.reciprocal(sorted(active_obj_dists)[1:num_neighbors]))"
   ]
  },
  {
   "cell_type": "code",
   "execution_count": 165,
   "id": "adb92381",
   "metadata": {},
   "outputs": [
    {
     "data": {
      "text/plain": [
       "[np.float64(0.0),\n",
       " np.float64(3.5),\n",
       " np.float64(3.5355339059327378),\n",
       " np.float64(3.5355339059327378),\n",
       " np.float64(5.0),\n",
       " np.float64(5.0),\n",
       " np.float64(5.0),\n",
       " np.float64(7.0710678118654755),\n",
       " np.float64(7.0710678118654755),\n",
       " np.float64(7.905694150420948),\n",
       " np.float64(7.905694150420948),\n",
       " np.float64(9.86154146165801),\n",
       " np.float64(9.86154146165801),\n",
       " np.float64(10.0),\n",
       " np.float64(11.180339887498949),\n",
       " np.float64(11.180339887498949),\n",
       " np.float64(13.5),\n",
       " np.float64(22.073740054644116),\n",
       " np.float64(25.0),\n",
       " np.float64(25.495097567963924),\n",
       " np.float64(26.5),\n",
       " np.float64(26.92582403567252),\n",
       " np.float64(27.613402542968153),\n",
       " np.float64(28.50438562747845),\n",
       " np.float64(30.0),\n",
       " np.float64(30.0),\n",
       " np.float64(30.20347662107791),\n",
       " np.float64(30.4138126514911),\n",
       " np.float64(30.4138126514911),\n",
       " np.float64(30.4138126514911),\n",
       " np.float64(31.622776601683793),\n",
       " np.float64(32.59601202601324),\n",
       " np.float64(32.59601202601324),\n",
       " np.float64(32.59601202601324),\n",
       " np.float64(32.89756829919196),\n",
       " np.float64(33.354160160315836),\n",
       " np.float64(35.0),\n",
       " np.float64(35.0),\n",
       " np.float64(35.35533905932738),\n",
       " np.float64(35.35533905932738),\n",
       " np.float64(35.35533905932738),\n",
       " np.float64(36.01735692690401),\n",
       " np.float64(36.01735692690401),\n",
       " np.float64(36.40054944640259),\n",
       " np.float64(37.58324094593227),\n",
       " np.float64(37.58324094593227),\n",
       " np.float64(38.82331773560833),\n",
       " np.float64(39.05124837953327),\n",
       " np.float64(40.0),\n",
       " np.float64(40.02811511925087),\n",
       " np.float64(40.311288741492746),\n",
       " np.float64(40.311288741492746),\n",
       " np.float64(41.07614879708174),\n",
       " np.float64(42.42640687119285),\n",
       " np.float64(42.573465914816005),\n",
       " np.float64(43.01162633521314),\n",
       " np.float64(43.5),\n",
       " np.float64(45.96194077712559),\n",
       " np.float64(46.09772228646444),\n",
       " np.float64(46.09772228646444),\n",
       " np.float64(46.502688094345686),\n",
       " np.float64(47.16990566028302),\n",
       " np.float64(49.49747468305833),\n",
       " np.float64(49.62358310319802),\n",
       " np.float64(50.0),\n",
       " np.float64(52.03124061561477),\n",
       " np.float64(52.84174486142561),\n",
       " np.float64(53.150729063673246)]"
      ]
     },
     "execution_count": 165,
     "metadata": {},
     "output_type": "execute_result"
    }
   ],
   "source": [
    "sorted(lvls[0][1])"
   ]
  },
  {
   "cell_type": "code",
   "execution_count": null,
   "id": "da670dc8",
   "metadata": {},
   "outputs": [
    {
     "data": {
      "text/plain": [
       "np.float64(0.3076923076923077)"
      ]
     },
     "execution_count": 173,
     "metadata": {},
     "output_type": "execute_result"
    }
   ],
   "source": [
    "neighborhood_value(0, 0, lvls, 3, already_collected=[])"
   ]
  }
 ],
 "metadata": {
  "kernelspec": {
   "display_name": ".venv",
   "language": "python",
   "name": "python3"
  },
  "language_info": {
   "codemirror_mode": {
    "name": "ipython",
    "version": 3
   },
   "file_extension": ".py",
   "mimetype": "text/x-python",
   "name": "python",
   "nbconvert_exporter": "python",
   "pygments_lexer": "ipython3",
   "version": "3.12.7"
  }
 },
 "nbformat": 4,
 "nbformat_minor": 5
}
