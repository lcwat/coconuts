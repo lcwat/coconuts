{
 "cells": [
  {
   "cell_type": "markdown",
   "id": "926aca3e",
   "metadata": {},
   "source": [
    "#### Creating data for sequential choice models\n",
    "The series of models I plan to use in my thesis project, inspired by habitat-selection functions from movement ecology, use environmental covariates of available resources (e.g., distance from current location, turning angle from previous bearing angle, size/point value, etc.) to predict whether a resource will be chosen next. By specifying a series of models containing different parameters, I will fit different cognitive heuristic strategies to human sequential choice data and determine parameters of significance to the foraging strategies of participants. "
   ]
  },
  {
   "cell_type": "markdown",
   "id": "8590c94b",
   "metadata": {},
   "source": [
    "To start, I must take existing foraging data in the form of logs of collected objects during play and expand it out to include the covariates of interest of all available objects. This data needs to also reflect the removal and reintroduction of collected objects during the course of play. "
   ]
  },
  {
   "cell_type": "code",
   "execution_count": 1,
   "id": "ed0d32d0",
   "metadata": {},
   "outputs": [],
   "source": [
    "# import libraries\n",
    "import pandas as pd\n",
    "import numpy as np"
   ]
  },
  {
   "cell_type": "code",
   "execution_count": 2,
   "id": "1df92ec8",
   "metadata": {},
   "outputs": [],
   "source": [
    "# read in data\n",
    "forage_data = pd.read_csv(\n",
    "    \"../../data/piloting/march24_pilot_forage_data_w_ids.csv\"\n",
    ")\n",
    "all_lvls_obj_location_data = pd.read_csv(\n",
    "    \"../../data/arrangements/object-location-data.csv\"\n",
    ")"
   ]
  },
  {
   "cell_type": "markdown",
   "id": "372e160c",
   "metadata": {},
   "source": [
    "##### Adding covariates and all available objects\n",
    "The two covariates of interest needed to be added to this expanded data set are distance from current location and turning angle "
   ]
  },
  {
   "cell_type": "code",
   "execution_count": 52,
   "id": "bfde6829",
   "metadata": {},
   "outputs": [],
   "source": [
    "# distance matrices store distances between coconuts\n",
    "def create_distance_matrices(obj_locs=pd.DataFrame):\n",
    "\n",
    "    # create list for levels\n",
    "    dist_matrix_list = []\n",
    "\n",
    "    # for each level, create matrix of all distances\n",
    "    for level in range(0, 10):\n",
    "        # filter for this level\n",
    "        level_locs = obj_locs[obj_locs.level == \"_level_\"+str(level+1)]\n",
    "\n",
    "        # reset index for consistent indexing\n",
    "        level_locs.index = [*range(0, len(level_locs))]\n",
    "\n",
    "        # create empty matrix\n",
    "        level_m = np.zeros((len(level_locs), len(level_locs)), dtype=float)\n",
    "\n",
    "        # fill this level's matrix\n",
    "        for i in range(0, len(level_locs)):\n",
    "            for j in range(0, len(level_locs)):\n",
    "                # calc distance and store in matrix\n",
    "                level_m[i, j] = np.sqrt(\n",
    "                    np.pow(level_locs.x[i]-level_locs.x[j], 2) +\n",
    "                    np.pow(level_locs.y[i]-level_locs.y[j], 2)\n",
    "                )\n",
    "\n",
    "        # add to list\n",
    "        dist_matrix_list.append(level_m)\n",
    "\n",
    "    return dist_matrix_list"
   ]
  },
  {
   "cell_type": "code",
   "execution_count": null,
   "id": "c5e96109",
   "metadata": {},
   "outputs": [],
   "source": [
    "# calculate turning angles\n",
    "def calculate_turning_angle(\n",
    "    previous_head_angle=float, current_obj_id=int, obj_locs=pd.DataFrame\n",
    "):\n",
    "\n",
    "    # empty list for angles\n",
    "    ta_list = []\n",
    "\n",
    "    # loop through df and calculate each ta\n",
    "    for obj in obj_locs.obj_ID:\n",
    "        if obj == current_obj_id:\n",
    "            ta_list.append(pd.NA)\n",
    "        else:\n",
    "            ta = np.atan2(\n",
    "                obj_locs[obj_locs.obj_ID == obj].y[obj-1] -\n",
    "                obj_locs[obj_locs.obj_ID ==\n",
    "                         current_obj_id].y[current_obj_id-1],\n",
    "                obj_locs[obj_locs.obj_ID == obj].x[obj-1] -\n",
    "                obj_locs[obj_locs.obj_ID == current_obj_id].x[current_obj_id-1]\n",
    "            ) - previous_head_angle\n",
    "\n",
    "            ta_list.append(ta)\n",
    "\n",
    "    return ta_list"
   ]
  },
  {
   "cell_type": "code",
   "execution_count": 127,
   "id": "73d469e7",
   "metadata": {},
   "outputs": [],
   "source": [
    "lvls = create_distance_matrices(all_lvls_obj_location_data)"
   ]
  },
  {
   "cell_type": "code",
   "execution_count": null,
   "id": "de9441d4",
   "metadata": {},
   "outputs": [],
   "source": [
    "# neighbors distance\n",
    "def neighborhood_value(\n",
    "    obj_ind=int, lvl_ind=int, lvl_matrices=list, num_neighbors=int, already_collected=list\n",
    "):\n",
    "\n",
    "    # filter for level distances\n",
    "    lvl_dists = lvl_matrices[lvl_ind]\n",
    "\n",
    "    # filter for already collected items\n",
    "    if len(already_collected) > 0:\n",
    "        available_indices = [\n",
    "            x for x in [*range(0, len(lvl_dists[obj_ind]))] if x not in already_collect\n",
    "        ]\n",
    "        active_obj_dists = lvl_dists[obj_ind][available_indices]\n",
    "    else:\n",
    "        active_obj_dists = lvl_dists[obj_ind]\n",
    "\n",
    "    return np.sum(np.reciprocal(sorted(active_obj_dists)[1:num_neighbors]))"
   ]
  },
  {
   "cell_type": "code",
   "execution_count": null,
   "id": "f29dcc8d",
   "metadata": {},
   "outputs": [],
   "source": [
    "# combine together to create function to expand df\n",
    "def expand_df_with_covariates(\n",
    "    orig_df=pd.DataFrame,\n",
    "    all_obj_locs_df=pd.DataFrame\n",
    "):\n",
    "\n",
    "    # create empty df to add to\n",
    "    expanded_df = pd.DataFrame({\n",
    "        'subject': int,\n",
    "        'level': int,\n",
    "        'collection_num': int,\n",
    "        'obj_ID': int,\n",
    "        'point_value': int,\n",
    "        'distance': float,\n",
    "        'turning_angle': float,\n",
    "        'neighbor_value': float,\n",
    "        'used': int,\n",
    "        'time': float\n",
    "    })\n",
    "\n",
    "    # create df to track collections\n",
    "    collect_df = pd.DataFrame({\n",
    "        'obj_ID': int,\n",
    "        'time_to_respawn': float\n",
    "    })\n",
    "\n",
    "    # create all distance matrices\n",
    "    lvl_dist_matrices = create_distance_matrices(all_obj_locs_df)\n",
    "\n",
    "    # loop through df and expand\n",
    "    for i in range(0, len(orig_df)):\n",
    "\n",
    "        # slice row\n",
    "        row_of_interest = orig_df.iloc[i]"
   ]
  },
  {
   "cell_type": "code",
   "execution_count": null,
   "id": "bab338e6",
   "metadata": {},
   "outputs": [
    {
     "name": "stdout",
     "output_type": "stream",
     "text": [
      "32\n"
     ]
    }
   ],
   "source": [
    "for i in range(0, len(forage_data)):\n",
    "    print(forage_data.iloc[i].obj_ID)\n",
    "    break"
   ]
  }
 ],
 "metadata": {
  "kernelspec": {
   "display_name": ".venv",
   "language": "python",
   "name": "python3"
  },
  "language_info": {
   "codemirror_mode": {
    "name": "ipython",
    "version": 3
   },
   "file_extension": ".py",
   "mimetype": "text/x-python",
   "name": "python",
   "nbconvert_exporter": "python",
   "pygments_lexer": "ipython3",
   "version": "3.13.2"
  }
 },
 "nbformat": 4,
 "nbformat_minor": 5
}
